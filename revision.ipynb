{
  "nbformat": 4,
  "nbformat_minor": 0,
  "metadata": {
    "colab": {
      "provenance": []
    },
    "kernelspec": {
      "name": "python3",
      "display_name": "Python 3"
    },
    "language_info": {
      "name": "python"
    }
  },
  "cells": [
    {
      "cell_type": "code",
      "source": [
        "\"\"\"1. Python Install\n",
        "   2. CMD | python --version | python | print(\"Hello, World!\")\n",
        "   3. VSCODE | Create Python Folder | VSCODE-File-Open Folder-Then Select New File\n",
        "   4. print(\"Hello, World!\")\n",
        "   5. Folder | Upper Link | Clear Path | CMD\n",
        "   6. Variable = To Store Data\n",
        "   \"\"\"\n",
        "name: str = \"Andrew\"\n",
        "age: int = 20\n",
        "isActive: bool = True\n",
        "print(name)\n",
        "print(age)\n",
        "print(isActive)\n",
        "\n",
        "# 7. Comment\n"
      ],
      "metadata": {
        "colab": {
          "base_uri": "https://localhost:8080/"
        },
        "id": "7nkYTdQJEg-E",
        "outputId": "526636d2-1338-427e-9de2-34be0996a4f4"
      },
      "execution_count": null,
      "outputs": [
        {
          "output_type": "stream",
          "name": "stdout",
          "text": [
            "Andrew\n",
            "20\n",
            "True\n"
          ]
        }
      ]
    },
    {
      "cell_type": "code",
      "source": [
        "# 8. Operators:\n",
        "\n",
        "# || Arithmetic operators ||\n",
        "x = 10\n",
        "y = 3\n",
        "print(x + y)     #Addition       : 13\n",
        "print(x - y)     #Subtraction    : 7\n",
        "print(x * y)     #Multiplication : 30\n",
        "print(x / y)     #Division       : 3.3333....\n",
        "print(x // y)    #Floor Division : 3 (Decimal ko hata deta hai/ divide me upr wala)\n",
        "print(x % y)     #Modulus        : 1 (remainder)\n",
        "print(x ** y)    #Exponentiation : 1000 (10^3 or 10*10*10)\n",
        "num1: int = 5\n",
        "num2: int = 5\n",
        "sum: int = num1 + num2\n",
        "print(sum)\n"
      ],
      "metadata": {
        "colab": {
          "base_uri": "https://localhost:8080/"
        },
        "id": "TmWM-FC4E9g_",
        "outputId": "eee385d0-850f-4735-b709-fe52686c401b"
      },
      "execution_count": null,
      "outputs": [
        {
          "output_type": "stream",
          "name": "stdout",
          "text": [
            "13\n",
            "7\n",
            "30\n",
            "3.3333333333333335\n",
            "3\n",
            "1\n",
            "1000\n",
            "10\n"
          ]
        }
      ]
    },
    {
      "cell_type": "code",
      "source": [
        "# || Asignment operators ||\n",
        "# Value ko assign krne k liye jo operator use hota (=)\n",
        "x: int = 15\n",
        "x = x + 5\n",
        "print(x)"
      ],
      "metadata": {
        "colab": {
          "base_uri": "https://localhost:8080/"
        },
        "id": "eUxFdLVmFYi_",
        "outputId": "3684b501-2bdd-4289-e4d4-ad076a25d8f2"
      },
      "execution_count": null,
      "outputs": [
        {
          "output_type": "stream",
          "name": "stdout",
          "text": [
            "20\n"
          ]
        }
      ]
    },
    {
      "cell_type": "code",
      "source": [
        "\"\"\" || Comparison operators || True/False\n",
        "       == (equal to)\n",
        "       >  (greater than)\n",
        "       < (less than)\n",
        "       >= (greater than equal to)\n",
        "       <= (less than equal to)\n",
        "       != (not equal to)\n",
        "\"\"\"\n",
        "num1: int = 10\n",
        "num2: int = 11\n",
        "print(num1 == num2)  #False\n",
        "print(num1 > num2)   #False\n",
        "print(num1 < num2)   #True\n",
        "print(num1 >= num2)  #False\n",
        "print(num1 <= num2)  #True\n",
        "print(num1 != num2)  #True"
      ],
      "metadata": {
        "colab": {
          "base_uri": "https://localhost:8080/"
        },
        "id": "n6gvsNx7GC4O",
        "outputId": "d4d63eb8-c07c-41f1-d60c-6419a83f8518"
      },
      "execution_count": null,
      "outputs": [
        {
          "output_type": "stream",
          "name": "stdout",
          "text": [
            "False\n",
            "False\n",
            "True\n",
            "False\n",
            "True\n",
            "True\n"
          ]
        }
      ]
    },
    {
      "cell_type": "code",
      "source": [
        "# || Logical operators ||\n",
        "# and, or, not\n",
        "\n",
        "# condition (and)\n",
        "num1: int = 40\n",
        "num2: int = 11\n",
        "print(num1 > 10 and num1 < 30) #False\n",
        "# num1 is greater than 10 AND num1 is less than 30\n",
        "# (and) condition me puri condition thek honi chahiye\n",
        "\n",
        "\n",
        "# condition (or)\n",
        "num1: int = 40\n",
        "num2: int = 11\n",
        "print(num1 > 10 or num1 < 30) #True\n",
        "# (or) condition me koi ek thek honi chahiye\n",
        "\n",
        "#Ghar py 2 cheezen hain ek ups and ek k_electric\n",
        "k_electric = \"no k_electric\"\n",
        "ups = \"no ups\"\n",
        "print(k_electric == \"no k_electric\" or ups != \"no ups\")\n",
        "\n",
        "#condition (not)\n",
        "# condition true hogi to false hojaegi or agr false hogi to true hojaegi"
      ],
      "metadata": {
        "colab": {
          "base_uri": "https://localhost:8080/"
        },
        "id": "XOpBAyvXGm_n",
        "outputId": "8c01a28c-41c2-451c-99d2-791a1401338d"
      },
      "execution_count": null,
      "outputs": [
        {
          "output_type": "stream",
          "name": "stdout",
          "text": [
            "False\n",
            "True\n",
            "True\n"
          ]
        }
      ]
    },
    {
      "cell_type": "code",
      "source": [
        "# || IF ELSE ||\n",
        "#   if - agr\n",
        "#   else - wrna\n",
        "\n",
        "#indentations - Double space sy if k bad wali line me jo bhi likhogy to if ki condition me aega\n",
        "\n",
        "num1: int = 2\n",
        "num2: int = 1\n",
        "if num1>1:\n",
        "    print(\"Hello\")\n",
        "    uname=\"Sir Sohaib\"\n",
        "    print(uname)\n"
      ],
      "metadata": {
        "colab": {
          "base_uri": "https://localhost:8080/"
        },
        "id": "p59jFOscG5we",
        "outputId": "c678e0c2-f8f9-4054-a9a6-723d6fdda77e"
      },
      "execution_count": null,
      "outputs": [
        {
          "output_type": "stream",
          "name": "stdout",
          "text": [
            "Hello\n",
            "Sir Sohaib\n"
          ]
        }
      ]
    },
    {
      "cell_type": "code",
      "source": [
        "# || Jupiter Notebook || Environment\n",
        "# Google Collab:\n",
        "# https://colab.research.google.com/drive/1OBaqxSbnpu6zl2YwBubA2AveM8Pnu21j"
      ],
      "metadata": {
        "id": "r5Wn2LTWJtvM"
      },
      "execution_count": null,
      "outputs": []
    },
    {
      "cell_type": "code",
      "source": [],
      "metadata": {
        "id": "X-2o4EKIJxsH"
      },
      "execution_count": null,
      "outputs": []
    }
  ]
}